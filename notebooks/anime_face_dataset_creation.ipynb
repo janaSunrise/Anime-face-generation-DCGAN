{
  "nbformat": 4,
  "nbformat_minor": 0,
  "metadata": {
    "colab": {
      "name": "kaggle_dataset_creation",
      "provenance": []
    },
    "kernelspec": {
      "name": "python3",
      "display_name": "Python 3"
    },
    "language_info": {
      "name": "python"
    }
  },
  "cells": [
    {
      "cell_type": "code",
      "metadata": {
        "colab": {
          "base_uri": "https://localhost:8080/"
        },
        "id": "RfgAayIztZi_",
        "outputId": "3008b52a-d559-443f-a467-3c64ca891183"
      },
      "source": [
        "!pip install kaggle"
      ],
      "execution_count": 1,
      "outputs": [
        {
          "output_type": "stream",
          "text": [
            "Requirement already satisfied: kaggle in /usr/local/lib/python3.7/dist-packages (1.5.12)\n",
            "Requirement already satisfied: requests in /usr/local/lib/python3.7/dist-packages (from kaggle) (2.23.0)\n",
            "Requirement already satisfied: tqdm in /usr/local/lib/python3.7/dist-packages (from kaggle) (4.41.1)\n",
            "Requirement already satisfied: python-slugify in /usr/local/lib/python3.7/dist-packages (from kaggle) (5.0.2)\n",
            "Requirement already satisfied: six>=1.10 in /usr/local/lib/python3.7/dist-packages (from kaggle) (1.15.0)\n",
            "Requirement already satisfied: python-dateutil in /usr/local/lib/python3.7/dist-packages (from kaggle) (2.8.1)\n",
            "Requirement already satisfied: certifi in /usr/local/lib/python3.7/dist-packages (from kaggle) (2020.12.5)\n",
            "Requirement already satisfied: urllib3 in /usr/local/lib/python3.7/dist-packages (from kaggle) (1.24.3)\n",
            "Requirement already satisfied: chardet<4,>=3.0.2 in /usr/local/lib/python3.7/dist-packages (from requests->kaggle) (3.0.4)\n",
            "Requirement already satisfied: idna<3,>=2.5 in /usr/local/lib/python3.7/dist-packages (from requests->kaggle) (2.10)\n",
            "Requirement already satisfied: text-unidecode>=1.3 in /usr/local/lib/python3.7/dist-packages (from python-slugify->kaggle) (1.3)\n"
          ],
          "name": "stdout"
        }
      ]
    },
    {
      "cell_type": "code",
      "metadata": {
        "id": "KJ0eV8MHtmoX"
      },
      "source": [
        "# Define the list of the datasets we'll be downloading\n",
        "kaggle_datasets = [\n",
        "  \"splcher/animefacedataset\",\n",
        "  \"soumikrakshit/anime-faces\",\n",
        "  \"scribbless/another-anime-face-dataset\"\n",
        "]"
      ],
      "execution_count": 2,
      "outputs": []
    },
    {
      "cell_type": "code",
      "metadata": {
        "colab": {
          "base_uri": "https://localhost:8080/"
        },
        "id": "yETd_I73wIry",
        "outputId": "046e7da5-ce3b-41d1-e2a7-5cb6b56a1959"
      },
      "source": [
        "# Get the Kaggle username and API key\n",
        "import getpass\n",
        "import os\n",
        "\n",
        "username = getpass.getpass(\"Your kaggle username: \")\n",
        "api_key = getpass.getpass(\"Your kaggle API Key: \")\n",
        "\n",
        "os.environ[\"KAGGLE_USERNAME\"] = username\n",
        "os.environ[\"KAGGLE_KEY\"] = api_key"
      ],
      "execution_count": 4,
      "outputs": [
        {
          "output_type": "stream",
          "text": [
            "Your kaggle username: ··········\n",
            "Your kaggle API Key: ··········\n"
          ],
          "name": "stdout"
        }
      ]
    },
    {
      "cell_type": "code",
      "metadata": {
        "colab": {
          "base_uri": "https://localhost:8080/"
        },
        "id": "Cp4vZIjXwMw0",
        "outputId": "935a0553-1b2d-4e91-80da-5bd4f8e919a0"
      },
      "source": [
        "# The API command to download a dataset is:\n",
        "# `kaggle datasets download -d <dataset>`\n",
        "\n",
        "# Downloading the datasets\n",
        "import subprocess\n",
        "\n",
        "\n",
        "def download_kaggle_dataset(dataset):\n",
        "  result = subprocess.run([\"kaggle\", \"datasets\", \"download\", \"-d\", dataset], capture_output=True, text=True)\n",
        "  print(\"stdout:\", result.stdout)\n",
        "  print(\"stderr:\", result.stderr)\n",
        "\n",
        "\n",
        "for dataset in kaggle_datasets:\n",
        "  download_kaggle_dataset(dataset)"
      ],
      "execution_count": 6,
      "outputs": [
        {
          "output_type": "stream",
          "text": [
            "stdout: Downloading animefacedataset.zip to /content\n",
            "\n",
            "\n",
            "stderr: \n",
            "  0%|          | 0.00/395M [00:00<?, ?B/s]\n",
            "  2%|2         | 8.00M/395M [00:00<00:05, 80.4MB/s]\n",
            "  7%|6         | 27.0M/395M [00:00<00:03, 97.5MB/s]\n",
            " 10%|#         | 41.0M/395M [00:00<00:04, 83.0MB/s]\n",
            " 15%|#5        | 61.0M/395M [00:00<00:03, 101MB/s] \n",
            " 21%|##        | 81.0M/395M [00:00<00:02, 118MB/s]\n",
            " 26%|##5       | 102M/395M [00:00<00:02, 136MB/s] \n",
            " 30%|###       | 120M/395M [00:00<00:01, 145MB/s]\n",
            " 34%|###4      | 136M/395M [00:01<00:02, 90.8MB/s]\n",
            " 39%|###8      | 153M/395M [00:01<00:02, 106MB/s] \n",
            " 43%|####3     | 170M/395M [00:01<00:01, 121MB/s]\n",
            " 47%|####7     | 186M/395M [00:01<00:01, 131MB/s]\n",
            " 51%|#####1    | 203M/395M [00:01<00:01, 142MB/s]\n",
            " 57%|#####6    | 223M/395M [00:01<00:01, 156MB/s]\n",
            " 62%|######1   | 244M/395M [00:01<00:00, 171MB/s]\n",
            " 67%|######7   | 266M/395M [00:01<00:00, 183MB/s]\n",
            " 72%|#######2  | 285M/395M [00:02<00:00, 142MB/s]\n",
            " 77%|#######6  | 303M/395M [00:02<00:00, 152MB/s]\n",
            " 81%|########1 | 320M/395M [00:02<00:00, 156MB/s]\n",
            " 85%|########5 | 337M/395M [00:02<00:00, 116MB/s]\n",
            " 90%|######### | 356M/395M [00:02<00:00, 131MB/s]\n",
            " 95%|#########5| 375M/395M [00:02<00:00, 146MB/s]\n",
            "100%|##########| 395M/395M [00:02<00:00, 141MB/s]\n",
            "\n",
            "stdout: Downloading anime-faces.zip to /content\n",
            "\n",
            "\n",
            "stderr: \n",
            "  0%|          | 0.00/441M [00:00<?, ?B/s]\n",
            "  1%|1         | 5.00M/441M [00:00<00:10, 43.7MB/s]\n",
            "  2%|2         | 10.0M/441M [00:00<00:10, 45.1MB/s]\n",
            "  4%|4         | 18.0M/441M [00:00<00:08, 52.1MB/s]\n",
            "  8%|8         | 37.0M/441M [00:00<00:06, 66.8MB/s]\n",
            " 12%|#2        | 55.0M/441M [00:00<00:04, 82.6MB/s]\n",
            " 15%|#5        | 68.0M/441M [00:00<00:04, 93.5MB/s]\n",
            " 18%|#8        | 80.0M/441M [00:00<00:03, 99.7MB/s]\n",
            " 21%|##        | 92.0M/441M [00:00<00:03, 98.7MB/s]\n",
            " 24%|##3       | 105M/441M [00:01<00:03, 100MB/s]  \n",
            " 28%|##8       | 124M/441M [00:01<00:02, 117MB/s]\n",
            " 31%|###1      | 137M/441M [00:01<00:02, 122MB/s]\n",
            " 36%|###5      | 157M/441M [00:01<00:02, 138MB/s]\n",
            " 40%|####      | 177M/441M [00:01<00:01, 154MB/s]\n",
            " 44%|####4     | 194M/441M [00:01<00:02, 109MB/s]\n",
            " 47%|####7     | 209M/441M [00:01<00:02, 95.5MB/s]\n",
            " 52%|#####1    | 228M/441M [00:02<00:01, 113MB/s] \n",
            " 55%|#####4    | 242M/441M [00:02<00:02, 99.9MB/s]\n",
            " 60%|#####9    | 263M/441M [00:02<00:01, 119MB/s] \n",
            " 64%|######3   | 282M/441M [00:02<00:01, 135MB/s]\n",
            " 69%|######8   | 303M/441M [00:02<00:00, 153MB/s]\n",
            " 73%|#######2  | 321M/441M [00:02<00:01, 119MB/s]\n",
            " 76%|#######6  | 336M/441M [00:02<00:00, 128MB/s]\n",
            " 80%|########  | 353M/441M [00:02<00:00, 139MB/s]\n",
            " 84%|########3 | 369M/441M [00:03<00:00, 95.8MB/s]\n",
            " 88%|########8 | 390M/441M [00:03<00:00, 114MB/s] \n",
            " 92%|#########1| 405M/441M [00:03<00:00, 82.3MB/s]\n",
            " 96%|#########6| 425M/441M [00:03<00:00, 78.9MB/s]\n",
            "100%|##########| 441M/441M [00:04<00:00, 113MB/s] \n",
            "\n",
            "stdout: Downloading another-anime-face-dataset.zip to /content\n",
            "\n",
            "\n",
            "stderr: \n",
            "  0%|          | 0.00/1.44G [00:00<?, ?B/s]\n",
            "  0%|          | 6.00M/1.44G [00:00<00:26, 58.4MB/s]\n",
            "  1%|1         | 17.0M/1.44G [00:00<00:23, 66.3MB/s]\n",
            "  2%|2         | 33.0M/1.44G [00:00<00:18, 80.1MB/s]\n",
            "  3%|2         | 41.0M/1.44G [00:00<00:32, 45.8MB/s]\n",
            "  4%|4         | 60.0M/1.44G [00:00<00:24, 59.5MB/s]\n",
            "  5%|4         | 73.0M/1.44G [00:01<00:25, 56.8MB/s]\n",
            "  6%|6         | 93.0M/1.44G [00:01<00:19, 72.5MB/s]\n",
            "  7%|7         | 105M/1.44G [00:01<00:22, 65.0MB/s] \n",
            "  8%|8         | 121M/1.44G [00:01<00:20, 69.1MB/s]\n",
            " 10%|9         | 141M/1.44G [00:01<00:16, 86.0MB/s]\n",
            " 11%|#         | 159M/1.44G [00:01<00:13, 103MB/s] \n",
            " 12%|#1        | 173M/1.44G [00:01<00:12, 106MB/s]\n",
            " 13%|#2        | 188M/1.44G [00:02<00:11, 116MB/s]\n",
            " 14%|#3        | 202M/1.44G [00:02<00:10, 121MB/s]\n",
            " 15%|#4        | 220M/1.44G [00:02<00:09, 136MB/s]\n",
            " 16%|#5        | 235M/1.44G [00:02<00:11, 111MB/s]\n",
            " 17%|#7        | 255M/1.44G [00:02<00:09, 129MB/s]\n",
            " 18%|#8        | 270M/1.44G [00:02<00:11, 110MB/s]\n",
            " 20%|#9        | 289M/1.44G [00:02<00:09, 127MB/s]\n",
            " 21%|##        | 305M/1.44G [00:03<00:12, 99.1MB/s]\n",
            " 22%|##2       | 325M/1.44G [00:03<00:10, 117MB/s] \n",
            " 23%|##3       | 340M/1.44G [00:03<00:11, 102MB/s]\n",
            " 24%|##3       | 353M/1.44G [00:03<00:10, 107MB/s]\n",
            " 25%|##4       | 368M/1.44G [00:03<00:09, 117MB/s]\n",
            " 26%|##5       | 381M/1.44G [00:03<00:11, 104MB/s]\n",
            " 27%|##6       | 393M/1.44G [00:03<00:10, 108MB/s]\n",
            " 28%|##7       | 409M/1.44G [00:04<00:09, 114MB/s]\n",
            " 29%|##8       | 427M/1.44G [00:04<00:08, 128MB/s]\n",
            " 30%|###       | 447M/1.44G [00:04<00:07, 143MB/s]\n",
            " 31%|###1      | 462M/1.44G [00:04<00:09, 116MB/s]\n",
            " 32%|###2      | 476M/1.44G [00:04<00:08, 121MB/s]\n",
            " 33%|###3      | 489M/1.44G [00:04<00:09, 107MB/s]\n",
            " 34%|###4      | 506M/1.44G [00:04<00:08, 120MB/s]\n",
            " 35%|###5      | 519M/1.44G [00:04<00:09, 110MB/s]\n",
            " 36%|###6      | 537M/1.44G [00:05<00:09, 108MB/s]\n",
            " 38%|###7      | 554M/1.44G [00:05<00:07, 121MB/s]\n",
            " 38%|###8      | 567M/1.44G [00:05<00:07, 123MB/s]\n",
            " 39%|###9      | 582M/1.44G [00:05<00:07, 132MB/s]\n",
            " 41%|####      | 600M/1.44G [00:05<00:06, 141MB/s]\n",
            " 42%|####1     | 615M/1.44G [00:05<00:10, 82.0MB/s]\n",
            " 43%|####2     | 632M/1.44G [00:06<00:09, 97.8MB/s]\n",
            " 44%|####3     | 648M/1.44G [00:06<00:07, 112MB/s] \n",
            " 45%|####5     | 666M/1.44G [00:06<00:06, 126MB/s]\n",
            " 47%|####6     | 687M/1.44G [00:06<00:05, 145MB/s]\n",
            " 48%|####7     | 705M/1.44G [00:06<00:06, 129MB/s]\n",
            " 49%|####9     | 723M/1.44G [00:06<00:05, 142MB/s]\n",
            " 50%|#####     | 739M/1.44G [00:06<00:07, 104MB/s]\n",
            " 52%|#####1    | 759M/1.44G [00:07<00:06, 123MB/s]\n",
            " 53%|#####2    | 775M/1.44G [00:07<00:05, 132MB/s]\n",
            " 54%|#####3    | 790M/1.44G [00:07<00:06, 118MB/s]\n",
            " 55%|#####4    | 804M/1.44G [00:07<00:06, 108MB/s]\n",
            " 56%|#####5    | 821M/1.44G [00:07<00:05, 121MB/s]\n",
            " 57%|#####6    | 835M/1.44G [00:07<00:07, 87.4MB/s]\n",
            " 58%|#####7    | 854M/1.44G [00:07<00:06, 105MB/s] \n",
            " 59%|#####8    | 868M/1.44G [00:08<00:06, 101MB/s]\n",
            " 60%|######    | 889M/1.44G [00:08<00:05, 119MB/s]\n",
            " 61%|######1   | 905M/1.44G [00:08<00:05, 104MB/s]\n",
            " 63%|######2   | 924M/1.44G [00:08<00:04, 121MB/s]\n",
            " 64%|######3   | 939M/1.44G [00:08<00:05, 99.4MB/s]\n",
            " 65%|######4   | 951M/1.44G [00:08<00:05, 106MB/s] \n",
            " 65%|######5   | 964M/1.44G [00:08<00:04, 112MB/s]\n",
            " 66%|######6   | 977M/1.44G [00:09<00:05, 101MB/s]\n",
            " 67%|######7   | 993M/1.44G [00:09<00:04, 114MB/s]\n",
            " 69%|######8   | 0.99G/1.44G [00:09<00:03, 131MB/s]\n",
            " 70%|######9   | 1.00G/1.44G [00:09<00:03, 130MB/s]\n",
            " 71%|#######1  | 1.02G/1.44G [00:09<00:03, 144MB/s]\n",
            " 72%|#######2  | 1.04G/1.44G [00:09<00:03, 134MB/s]\n",
            " 73%|#######3  | 1.05G/1.44G [00:09<00:02, 144MB/s]\n",
            " 74%|#######4  | 1.07G/1.44G [00:09<00:03, 126MB/s]\n",
            " 76%|#######5  | 1.09G/1.44G [00:10<00:02, 139MB/s]\n",
            " 77%|#######6  | 1.10G/1.44G [00:10<00:02, 132MB/s]\n",
            " 78%|#######7  | 1.12G/1.44G [00:10<00:02, 143MB/s]\n",
            " 79%|#######8  | 1.13G/1.44G [00:10<00:03, 97.2MB/s]\n",
            " 80%|########  | 1.15G/1.44G [00:10<00:02, 114MB/s] \n",
            " 81%|########1 | 1.17G/1.44G [00:10<00:02, 127MB/s]\n",
            " 82%|########2 | 1.18G/1.44G [00:10<00:02, 118MB/s]\n",
            " 83%|########3 | 1.20G/1.44G [00:11<00:01, 130MB/s]\n",
            " 84%|########4 | 1.21G/1.44G [00:11<00:02, 119MB/s]\n",
            " 85%|########5 | 1.23G/1.44G [00:11<00:01, 133MB/s]\n",
            " 87%|########6 | 1.25G/1.44G [00:11<00:01, 114MB/s]\n",
            " 88%|########7 | 1.26G/1.44G [00:11<00:01, 132MB/s]\n",
            " 89%|########8 | 1.28G/1.44G [00:11<00:01, 117MB/s]\n",
            " 90%|######### | 1.30G/1.44G [00:11<00:01, 134MB/s]\n",
            " 91%|#########1| 1.32G/1.44G [00:11<00:00, 146MB/s]\n",
            " 93%|#########2| 1.33G/1.44G [00:12<00:01, 104MB/s]\n",
            " 94%|#########3| 1.35G/1.44G [00:12<00:00, 123MB/s]\n",
            " 95%|#########5| 1.37G/1.44G [00:12<00:00, 119MB/s]\n",
            " 96%|#########6| 1.38G/1.44G [00:12<00:00, 123MB/s]\n",
            " 97%|#########7| 1.40G/1.44G [00:12<00:00, 133MB/s]\n",
            " 98%|#########8| 1.42G/1.44G [00:13<00:00, 88.8MB/s]\n",
            "100%|#########9| 1.43G/1.44G [00:13<00:00, 106MB/s] \n",
            "100%|##########| 1.44G/1.44G [00:13<00:00, 117MB/s]\n",
            "\n"
          ],
          "name": "stdout"
        }
      ]
    },
    {
      "cell_type": "code",
      "metadata": {
        "id": "OryOL9uaxBW0"
      },
      "source": [
        "# Unzip the datasets\n",
        "import zipfile\n",
        "\n",
        "\n",
        "def unzip(dataset):\n",
        "  filename = dataset.split(\"/\")[1]\n",
        "  with zipfile.ZipFile(filename + \".zip\", 'r') as zip_ref:\n",
        "    zip_ref.extractall(filename)\n",
        "\n",
        "\n",
        "for dataset in kaggle_datasets:\n",
        "  unzip(dataset)"
      ],
      "execution_count": 7,
      "outputs": []
    },
    {
      "cell_type": "code",
      "metadata": {
        "colab": {
          "base_uri": "https://localhost:8080/"
        },
        "id": "V2yd_T3ZxoYh",
        "outputId": "cd08425b-7e1d-40b3-8493-9df0c666cdf8"
      },
      "source": [
        "# Time to make a dataset directory and move all the other contents into it.\n",
        "import shutil\n",
        "import os\n",
        "\n",
        "TARGET = \"./dataset\"\n",
        "\n",
        "if not os.path.exists(TARGET):\n",
        "  os.makedirs(TARGET)\n",
        "\n",
        " \n",
        "def move(source_dir, target_dir):\n",
        "  file_names = os.listdir(source_dir)\n",
        "    \n",
        "  for file_name in file_names:\n",
        "    shutil.move(os.path.join(source_dir, file_name), target_dir)\n",
        "\n",
        "\n",
        "paths = [\n",
        "  \"./anime-faces/data\",\n",
        "  \"./animefacedataset/images\",\n",
        "  \"./another-anime-face-dataset/animefaces256cleaner\"\n",
        "]\n",
        "\n",
        "for path in paths:\n",
        "  move(path, TARGET)\n",
        "\n",
        "# Get the count of file\n",
        "print(len(os.listdir(TARGET)))"
      ],
      "execution_count": 8,
      "outputs": [
        {
          "output_type": "stream",
          "text": [
            "177336\n"
          ],
          "name": "stdout"
        }
      ]
    },
    {
      "cell_type": "code",
      "metadata": {
        "id": "-9ZGM6Jwy-MS"
      },
      "source": [
        ""
      ],
      "execution_count": null,
      "outputs": []
    }
  ]
}